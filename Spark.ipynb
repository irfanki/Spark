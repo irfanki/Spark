{
 "cells": [
  {
   "cell_type": "code",
   "execution_count": 1,
   "metadata": {},
   "outputs": [],
   "source": [
    "import findspark\n",
    "findspark.init()\n",
    "\n",
    "from pyspark.sql import SparkSession\n",
    "spark = SparkSession.builder.appName('abc').getOrCreate()"
   ]
  },
  {
   "cell_type": "code",
   "execution_count": 2,
   "metadata": {},
   "outputs": [
    {
     "name": "stdout",
     "output_type": "stream",
     "text": [
      "+-------+-----+--------------------------------+------------------------------------+-------------------+\n",
      "|country|event|player_id                       |session_id                          |ts                 |\n",
      "+-------+-----+--------------------------------+------------------------------------+-------------------+\n",
      "|PK     |start|d6313e1fb7d247a6a034e2aadc30ab3f|674606b1-2270-4285-928f-eef4a6b90a60|2016-11-22T20:40:50|\n",
      "|null   |end  |20ac16ebb30a477087c3c7501b1fce73|16ca9d01-d240-4527-9f8f-00ef6cddb1d4|2016-11-18T06:24:50|\n",
      "|null   |end  |318e22b061b54042b880c365c28982d0|5f933591-8cd5-4147-8736-d6237bef5891|2016-11-16T18:01:37|\n",
      "|null   |end  |29bb390d9b1b4b4b9ec0d6243da34ec4|ef939180-692a-4845-aef7-afb03524c2da|2016-11-13T10:38:09|\n",
      "|GH     |start|a477ecabc3cc455cb1c6d1dab77d8e5c|4c55263e-66b2-4814-b431-8ca4c1a9dcc8|2016-11-29T19:31:43|\n",
      "|SK     |start|1ec36a67785046b3bce1dc432fad9129|3346a60a-0989-4041-aacc-cf6ff44bd151|2016-11-16T05:36:16|\n",
      "|DE     |start|9595af0063e94cb8a76cb6628c6b80eb|06830030-d091-428b-87d6-53914d3d2a18|2016-11-07T01:18:09|\n",
      "|null   |end  |8d0e3cd4a25d4a0895a6c2e13b5bb26a|a78a4889-4bcf-45a7-a4bd-967cc7adf581|2016-11-24T02:12:33|\n",
      "|null   |end  |e59f1fa31e144fd8b3634f397492126a|dd223ea6-0e6b-4dd2-bc1d-b2decd43aabf|2016-11-13T00:35:30|\n",
      "|null   |end  |fd8a1e9fff25471dad3e8ab951c90d60|3015bf71-4b28-4c91-a253-b48607170a1e|2016-11-21T01:18:57|\n",
      "+-------+-----+--------------------------------+------------------------------------+-------------------+\n",
      "only showing top 10 rows\n",
      "\n"
     ]
    }
   ],
   "source": [
    "df = spark.read.json('assignment_data.jsonl')\n",
    "# it is not the full dataset \n",
    "df.show(10, False)"
   ]
  },
  {
   "cell_type": "code",
   "execution_count": 3,
   "metadata": {},
   "outputs": [
    {
     "name": "stdout",
     "output_type": "stream",
     "text": [
      "+-------+-----+--------------------------------+------------------------------------+-------------------+\n",
      "|country|event|player_id                       |session_id                          |ts                 |\n",
      "+-------+-----+--------------------------------+------------------------------------+-------------------+\n",
      "|PK     |start|d6313e1fb7d247a6a034e2aadc30ab3f|674606b1-2270-4285-928f-eef4a6b90a60|2016-11-22T20:40:50|\n",
      "|null   |end  |d6313e1fb7d247a6a034e2aadc30ab3f|674606b1-2270-4285-928f-eef4a6b90a60|2016-11-22T22:29:39|\n",
      "+-------+-----+--------------------------------+------------------------------------+-------------------+\n",
      "\n",
      "+-------+-----+--------------------------------+------------------------------------+-------------------+\n",
      "|country|event|player_id                       |session_id                          |ts                 |\n",
      "+-------+-----+--------------------------------+------------------------------------+-------------------+\n",
      "|PK     |start|d6313e1fb7d247a6a034e2aadc30ab3f|674606b1-2270-4285-928f-eef4a6b90a60|2016-11-22T20:40:50|\n",
      "|null   |end  |d6313e1fb7d247a6a034e2aadc30ab3f|34cb1033-63dc-4914-899a-cabd855dd8dd|2016-11-10T12:07:17|\n",
      "|PK     |start|d6313e1fb7d247a6a034e2aadc30ab3f|bdbf38a0-18ab-4055-bf0b-fe9b529a3ec9|2016-11-28T08:17:05|\n",
      "|null   |end  |d6313e1fb7d247a6a034e2aadc30ab3f|043510e7-3bf1-4c93-8d59-ff75ff764e06|2016-11-29T16:54:30|\n",
      "|PK     |start|d6313e1fb7d247a6a034e2aadc30ab3f|8a6f5904-646f-4a5c-ae76-690a58f8cb78|2016-11-24T00:32:03|\n",
      "|PK     |start|d6313e1fb7d247a6a034e2aadc30ab3f|e76a37a6-4660-4ee3-b1fe-38d42f7a890d|2016-11-09T13:12:56|\n",
      "|null   |end  |d6313e1fb7d247a6a034e2aadc30ab3f|263ad266-eb5a-4e8f-ad0d-a52d8a01c2e4|2016-11-25T12:43:44|\n",
      "|PK     |start|d6313e1fb7d247a6a034e2aadc30ab3f|34cb1033-63dc-4914-899a-cabd855dd8dd|2016-11-10T11:03:41|\n",
      "|null   |end  |d6313e1fb7d247a6a034e2aadc30ab3f|9e195844-505c-4fe1-82b6-3f703cf1a571|2016-11-30T23:53:30|\n",
      "|PK     |start|d6313e1fb7d247a6a034e2aadc30ab3f|9e195844-505c-4fe1-82b6-3f703cf1a571|2016-11-30T23:22:44|\n",
      "+-------+-----+--------------------------------+------------------------------------+-------------------+\n",
      "only showing top 10 rows\n",
      "\n"
     ]
    }
   ],
   "source": [
    "df.where(\"session_id = '674606b1-2270-4285-928f-eef4a6b90a60'\").show(10, False)\n",
    "\n",
    "df.where(\"player_id = 'd6313e1fb7d247a6a034e2aadc30ab3f'\").show(10, False)"
   ]
  },
  {
   "cell_type": "code",
   "execution_count": 4,
   "metadata": {},
   "outputs": [
    {
     "data": {
      "text/plain": [
       "500587"
      ]
     },
     "execution_count": 4,
     "metadata": {},
     "output_type": "execute_result"
    }
   ],
   "source": [
    "# How many sessions are in the dataset?\n",
    "df.dropDuplicates(['session_id']).count()"
   ]
  },
  {
   "cell_type": "code",
   "execution_count": 5,
   "metadata": {},
   "outputs": [
    {
     "name": "stdout",
     "output_type": "stream",
     "text": [
      "+--------------------------------+-----+\n",
      "|player_id                       |count|\n",
      "+--------------------------------+-----+\n",
      "|fdadac1db49f451981dc591a60f2736f|44   |\n",
      "|0609d43684af43368b987205acea692b|47   |\n",
      "|f879e3faf135423e8f7f0eab3cce9807|47   |\n",
      "|74e2b6a3a2734582845342a664630bb4|37   |\n",
      "|045e8cfd294e4be781fb2123c46945ec|21   |\n",
      "|d66947c8680c4124825d9e15b489fac6|23   |\n",
      "|b14960653e0a4b25a1ededfaebf14926|26   |\n",
      "|23c0301d89504687a3f038f8c6d012ff|47   |\n",
      "|3e888630d54e4dde9e751f84b4c968e3|42   |\n",
      "|da1f3979c6c24238a187efe811c06418|49   |\n",
      "+--------------------------------+-----+\n",
      "only showing top 10 rows\n",
      "\n"
     ]
    }
   ],
   "source": [
    "# How many sessions are completed per player?\n",
    "df.groupBy(['player_id', 'session_id'])\\\n",
    "    .count()\\\n",
    "    .where('count>1')\\\n",
    "    .groupBy(['player_id'])\\\n",
    "    .count()\\\n",
    "    .show(10, False)"
   ]
  },
  {
   "cell_type": "code",
   "execution_count": 7,
   "metadata": {},
   "outputs": [
    {
     "name": "stdout",
     "output_type": "stream",
     "text": [
      "+-------+-----+\n",
      "|country|count|\n",
      "+-------+-----+\n",
      "|IT     |2839 |\n",
      "+-------+-----+\n",
      "only showing top 1 row\n",
      "\n"
     ]
    }
   ],
   "source": [
    "# What is the country with more sessions started during 2018? \n",
    "from pyspark.sql.functions import year\n",
    "\n",
    "df.where('event=\"start\" and year(ts)=\"2016\"')\\\n",
    "    .groupBy(['country'])\\\n",
    "    .count()\\\n",
    "    .orderBy(['count'], ascending=False)\\\n",
    "    .show(1, False)"
   ]
  },
  {
   "cell_type": "code",
   "execution_count": 8,
   "metadata": {},
   "outputs": [
    {
     "name": "stdout",
     "output_type": "stream",
     "text": [
      "+-------+-----+\n",
      "|country|count|\n",
      "+-------+-----+\n",
      "|     DZ| 1953|\n",
      "|     MM| 1996|\n",
      "|     LT| 2276|\n",
      "|     TC| 2206|\n",
      "|     SC| 1774|\n",
      "|     AZ| 2670|\n",
      "|     FI| 2349|\n",
      "|     PM| 2112|\n",
      "|     UA| 2141|\n",
      "|     RO| 2550|\n",
      "|     KI| 1662|\n",
      "|     ZM| 1680|\n",
      "|     SL| 2202|\n",
      "|     LA| 2402|\n",
      "|     NL| 2247|\n",
      "|     SB| 1626|\n",
      "|     BS| 2239|\n",
      "|     BW| 2168|\n",
      "|     MN| 2365|\n",
      "|     PL| 2119|\n",
      "+-------+-----+\n",
      "only showing top 20 rows\n",
      "\n"
     ]
    }
   ],
   "source": [
    "# How many sessions are completed per country?\n",
    "df.groupBy('session_id').count()\\\n",
    "    .where('count>1')\\\n",
    "    .join(df,'session_id','left')\\\n",
    "    .where('country is not null')\\\n",
    "    .groupBy('country')\\\n",
    "    .count()\\\n",
    "    .show()"
   ]
  },
  {
   "cell_type": "code",
   "execution_count": 20,
   "metadata": {},
   "outputs": [],
   "source": [
    "# Plot the player sessions completed per country - total number of completed session per country \n",
    "df1 = df.groupBy('session_id').count()\\\n",
    "    .where('count>1')\\\n",
    "    .join(df,'session_id','left')\\\n",
    "    .where('country is not null')\\\n",
    "    .groupBy('country')\\\n",
    "    .count()"
   ]
  },
  {
   "cell_type": "code",
   "execution_count": 21,
   "metadata": {},
   "outputs": [
    {
     "data": {
      "text/plain": [
       "<matplotlib.axes._subplots.AxesSubplot at 0x1f37b628f28>"
      ]
     },
     "execution_count": 21,
     "metadata": {},
     "output_type": "execute_result"
    },
    {
     "data": {
      "image/png": "[encoded data removed]",
      "text/plain": [
       "<Figure size 1440x720 with 1 Axes>"
      ]
     },
     "metadata": {},
     "output_type": "display_data"
    }
   ],
   "source": [
    "from matplotlib import pyplot as plt \n",
    "%matplotlib inline\n",
    "df1.toPandas()\\\n",
    "    .plot(kind='bar',\n",
    "          figsize=(20,10),\n",
    "         x='country',\n",
    "         y='count',\n",
    "         colormap='winter_r')"
   ]
  },
  {
   "cell_type": "code",
   "execution_count": null,
   "metadata": {},
   "outputs": [],
   "source": []
  }
 ],
 "metadata": {
  "kernelspec": {
   "display_name": "Python 3",
   "language": "python",
   "name": "python3"
  },
  "language_info": {
   "codemirror_mode": {
    "name": "ipython",
    "version": 3
   },
   "file_extension": ".py",
   "mimetype": "text/x-python",
   "name": "python",
   "nbconvert_exporter": "python",
   "pygments_lexer": "ipython3",
   "version": "3.6.5"
  }
 },
 "nbformat": 4,
 "nbformat_minor": 2
}
